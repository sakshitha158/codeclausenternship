{
 "cells": [
  {
   "cell_type": "code",
   "execution_count": 1,
   "id": "da4a83de-3a4d-4d15-8337-9f95c473b177",
   "metadata": {},
   "outputs": [
    {
     "name": "stdout",
     "output_type": "stream",
     "text": [
      "pygame 2.6.0 (SDL 2.28.4, Python 3.12.4)\n",
      "Hello from the pygame community. https://www.pygame.org/contribute.html\n"
     ]
    }
   ],
   "source": [
    "import os\n",
    "import tkinter as tk\n",
    "from tkinter import filedialog\n",
    "from tkinter import messagebox\n",
    "import pygame\n",
    "\n",
    "class MusicPlayer:\n",
    "    def __init__(self, root):\n",
    "        self.root = root\n",
    "        self.root.title(\"Music Player\")\n",
    "        self.root.geometry(\"300x200\")\n",
    "\n",
    "        # Initialize pygame mixer\n",
    "        pygame.mixer.init()\n",
    "\n",
    "        # Create buttons\n",
    "        self.play_button = tk.Button(self.root, text=\"Play\", command=self.play_music)\n",
    "        self.play_button.pack(pady=10)\n",
    "        \n",
    "        self.pause_button = tk.Button(self.root, text=\"Pause\", command=self.pause_music)\n",
    "        self.pause_button.pack(pady=10)\n",
    "        \n",
    "        self.stop_button = tk.Button(self.root, text=\"Stop\", command=self.stop_music)\n",
    "        self.stop_button.pack(pady=10)\n",
    "\n",
    "        self.folder_button = tk.Button(self.root, text=\"Select Folder\", command=self.select_folder)\n",
    "        self.folder_button.pack(pady=10)\n",
    "        \n",
    "        self.is_paused = False\n",
    "        self.music_files = []\n",
    "        self.current_track = 0\n",
    "\n",
    "    def select_folder(self):\n",
    "        folder_path = filedialog.askdirectory()\n",
    "        if folder_path:\n",
    "            self.music_files = [os.path.join(folder_path, file) for file in os.listdir(folder_path) if file.endswith(\".mp3\")]\n",
    "            if self.music_files:\n",
    "                messagebox.showinfo(\"Music Player\", f\"Loaded {len(self.music_files)} files.\")\n",
    "                self.current_track = 0\n",
    "            else:\n",
    "                messagebox.showwarning(\"Music Player\", \"No .mp3 files found in the selected folder.\")\n",
    "    \n",
    "    def play_music(self):\n",
    "        if not self.music_files:\n",
    "            messagebox.showwarning(\"Music Player\", \"No music files loaded.\")\n",
    "            return\n",
    "        \n",
    "        if self.is_paused:\n",
    "            pygame.mixer.music.unpause()\n",
    "            self.is_paused = False\n",
    "        else:\n",
    "            pygame.mixer.music.load(self.music_files[self.current_track])\n",
    "            pygame.mixer.music.play()\n",
    "    \n",
    "    def pause_music(self):\n",
    "        if pygame.mixer.music.get_busy():\n",
    "            pygame.mixer.music.pause()\n",
    "            self.is_paused = True\n",
    "    \n",
    "    def stop_music(self):\n",
    "        if pygame.mixer.music.get_busy():\n",
    "            pygame.mixer.music.stop()\n",
    "            self.is_paused = False\n",
    "\n",
    "if __name__ == \"__main__\":\n",
    "    root = tk.Tk()\n",
    "    app = MusicPlayer(root)\n",
    "    root.mainloop()\n"
   ]
  },
  {
   "cell_type": "code",
   "execution_count": null,
   "id": "50bee3df-5144-4655-8cde-cbf493cb8420",
   "metadata": {},
   "outputs": [],
   "source": []
  }
 ],
 "metadata": {
  "kernelspec": {
   "display_name": "Python 3 (ipykernel)",
   "language": "python",
   "name": "python3"
  },
  "language_info": {
   "codemirror_mode": {
    "name": "ipython",
    "version": 3
   },
   "file_extension": ".py",
   "mimetype": "text/x-python",
   "name": "python",
   "nbconvert_exporter": "python",
   "pygments_lexer": "ipython3",
   "version": "3.12.4"
  }
 },
 "nbformat": 4,
 "nbformat_minor": 5
}
